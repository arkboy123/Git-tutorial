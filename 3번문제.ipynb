{
  "nbformat": 4,
  "nbformat_minor": 0,
  "metadata": {
    "colab": {
      "provenance": [],
      "include_colab_link": true
    },
    "kernelspec": {
      "name": "python3",
      "display_name": "Python 3"
    },
    "language_info": {
      "name": "python"
    }
  },
  "cells": [
    {
      "cell_type": "markdown",
      "metadata": {
        "id": "view-in-github",
        "colab_type": "text"
      },
      "source": [
        "<a href=\"https://colab.research.google.com/github/arkboy123/Git-tutorial/blob/master/3%EB%B2%88%EB%AC%B8%EC%A0%9C.ipynb\" target=\"_parent\"><img src=\"https://colab.research.google.com/assets/colab-badge.svg\" alt=\"Open In Colab\"/></a>"
      ]
    },
    {
      "cell_type": "code",
      "source": [
        "import datetime\n",
        "import time\n",
        "import logging\n",
        "\n",
        "def my_logger(original_function):\n",
        "    print(\"+my_logger\")\n",
        "    print(\"my_logger:original_function=\", original_function)\n",
        "    filename = '{}.log'.format(original_function.__name__)\n",
        "    logging.basicConfig(handlers=[logging.FileHandler(filename, 'a', 'utf-8')], \n",
        "                        level=logging.INFO)\n",
        "\n",
        "    def wrapper(*args, **kwargs):\n",
        "        print(\"+my_logger:wrapper\")\n",
        "        timestamp = datetime.datetime.now().strftime('%Y-%m-%d %H:%M')\n",
        "        logging.info(\n",
        "            '[{}] excution result args - {}, kwargs - {}'.format(timestamp, args, kwargs))\n",
        "        \n",
        "        result = original_function(*args, **kwargs)\n",
        "        print(\"-my_logger:wrapper\")\n",
        "        return result\n",
        "\n",
        "    print(\"-my_logger\")\n",
        "    return wrapper\n",
        "\n",
        "\n",
        "def my_timer(original_function):\n",
        "    import time\n",
        "    print(\"+my_timer\")\n",
        "    print(\"my_timer:original_function=\", original_function)\n",
        "    def wrapper(*args, **kwargs):\n",
        "        print(\"+my_timer:wrapper\")\n",
        "        t1 = time.time()\n",
        "        result = original_function(*args, **kwargs)\n",
        "        t2 = time.time() - t1\n",
        "        print('{} 함수가 실행된 총 시간: {} 초'.format(original_function.__name__, t2))\n",
        "        print(\"-my_timer:wrapper\")\n",
        "        return result\n",
        "    print(\"-my_timer\")\n",
        "    return wrapper"
      ],
      "metadata": {
        "id": "4am-E84VaW9B"
      },
      "execution_count": 1,
      "outputs": []
    },
    {
      "cell_type": "code",
      "source": [
        "@my_logger  # 1\n",
        "@my_timer   # 2\n",
        "def display_info(name, age):\n",
        "    time.sleep(1)\n",
        "    print('display_info({}, {}) 함수가 실행됐습니다.'.format(name, age))"
      ],
      "metadata": {
        "id": "8e1SCeSfac2h",
        "colab": {
          "base_uri": "https://localhost:8080/"
        },
        "outputId": "bef44a45-e374-4d59-92ed-e39eccfc6e98"
      },
      "execution_count": 2,
      "outputs": [
        {
          "output_type": "stream",
          "name": "stdout",
          "text": [
            "+my_timer\n",
            "my_timer:original_function= <function display_info at 0x7fbc0edac550>\n",
            "-my_timer\n",
            "+my_logger\n",
            "my_logger:original_function= <function my_timer.<locals>.wrapper at 0x7fbc0edac5e0>\n",
            "-my_logger\n"
          ]
        }
      ]
    },
    {
      "cell_type": "code",
      "source": [
        "display_info('John', 25)"
      ],
      "metadata": {
        "id": "-_uGz5xebfgB",
        "colab": {
          "base_uri": "https://localhost:8080/"
        },
        "outputId": "d0bbb4db-ed0d-4090-c099-c3b42b328eac"
      },
      "execution_count": 3,
      "outputs": [
        {
          "output_type": "stream",
          "name": "stdout",
          "text": [
            "+my_logger:wrapper\n",
            "+my_timer:wrapper\n",
            "display_info(John, 25) 함수가 실행됐습니다.\n",
            "display_info 함수가 실행된 총 시간: 1.000734567642212 초\n",
            "-my_timer:wrapper\n",
            "-my_logger:wrapper\n"
          ]
        }
      ]
    },
    {
      "cell_type": "code",
      "source": [
        "# 데코레이터 클래스를 구현하세요\n"
      ],
      "metadata": {
        "id": "Pwub9gtnbXO5"
      },
      "execution_count": 4,
      "outputs": []
    },
    {
      "cell_type": "code",
      "source": [
        "import datetime\n",
        "import time\n",
        "import logging\n",
        "\n",
        "class my_logger:\n",
        "  def __init__(self,original_function):\n",
        "    self.original_function = original_function\n",
        "\n",
        "  def __call__(self):\n",
        "    print(self.original_function.__name__,'+my_logger')\n",
        "    print(self.original_function.__name__,'my_logger:original_function=',original_function)\n",
        "    timestamp = datetime.datetime.now().strftime('%Y-%m-%d %H:%M')\n",
        "    logging.info(\n",
        "            '[{}] excution result args - {}, kwargs - {}'.format(timestamp, args, kwargs))\n",
        "        \n",
        "    result = original_function(*args, **kwargs)\n",
        "    print(\"-my_logger:wrapper\")\n",
        "    return result"
      ],
      "metadata": {
        "id": "oQVjtkVE7qqg"
      },
      "execution_count": null,
      "outputs": []
    }
  ]
}