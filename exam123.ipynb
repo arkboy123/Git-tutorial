{
  "nbformat": 4,
  "nbformat_minor": 0,
  "metadata": {
    "colab": {
      "provenance": [],
      "authorship_tag": "ABX9TyOvDBfg1RmbAhLk3QCsaEQF",
      "include_colab_link": true
    },
    "kernelspec": {
      "name": "python3",
      "display_name": "Python 3"
    },
    "language_info": {
      "name": "python"
    }
  },
  "cells": [
    {
      "cell_type": "markdown",
      "metadata": {
        "id": "view-in-github",
        "colab_type": "text"
      },
      "source": [
        "<a href=\"https://colab.research.google.com/github/arkboy123/Git-tutorial/blob/master/exam123.ipynb\" target=\"_parent\"><img src=\"https://colab.research.google.com/assets/colab-badge.svg\" alt=\"Open In Colab\"/></a>"
      ]
    },
    {
      "cell_type": "code",
      "execution_count": null,
      "metadata": {
        "colab": {
          "base_uri": "https://localhost:8080/"
        },
        "id": "0ukD086mujRo",
        "outputId": "1b1e9aa7-fafc-47eb-f363-285095e6c0e9"
      },
      "outputs": [
        {
          "output_type": "stream",
          "name": "stdout",
          "text": [
            "자연수 어디까지 찾을까요?40\n",
            "[3, 6, 7, 9, 12, 14, 15, 18, 21, 24, 27, 28, 30, 33, 35, 36, 39]\n",
            "자연수 어디까지 찾을까요?60\n",
            "[3, 6, 7, 9, 12, 14, 15, 18, 21, 24, 27, 28, 30, 33, 35, 36, 39, 42, 45, 48, 49, 51, 54, 56, 57, 60]\n"
          ]
        }
      ],
      "source": [
        "# 1_번.\n",
        "while 1: \n",
        "  list_3_7 = []\n",
        "  x =int(input(\"자연수 어디까지 찾을까요?\"))\n",
        "  def num_3_7(x):\n",
        "  \n",
        "    list_num = [i for i in range(1,x+1)]\n",
        "  \n",
        "    for i in list_num:\n",
        "      if i % 3 ==0 or i%7==0:\n",
        "        list_3_7.append(i)\n",
        "    return list_3_7\n",
        "  \n",
        "  a = num_3_7(x)\n",
        "  print(a)\n",
        "\n",
        "\n",
        "\n"
      ]
    }
  ]
}