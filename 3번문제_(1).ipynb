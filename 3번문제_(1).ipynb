{
  "nbformat": 4,
  "nbformat_minor": 0,
  "metadata": {
    "colab": {
      "provenance": [],
      "include_colab_link": true
    },
    "kernelspec": {
      "name": "python3",
      "display_name": "Python 3"
    },
    "language_info": {
      "name": "python"
    }
  },
  "cells": [
    {
      "cell_type": "markdown",
      "metadata": {
        "id": "view-in-github",
        "colab_type": "text"
      },
      "source": [
        "<a href=\"https://colab.research.google.com/github/arkboy123/Git-tutorial/blob/master/3%EB%B2%88%EB%AC%B8%EC%A0%9C_(1).ipynb\" target=\"_parent\"><img src=\"https://colab.research.google.com/assets/colab-badge.svg\" alt=\"Open In Colab\"/></a>"
      ]
    },
    {
      "cell_type": "code",
      "source": [
        "import datetime\n",
        "import time\n",
        "import logging\n",
        "\n",
        "def my_logger(original_function):\n",
        "    print(\"+my_logger\")\n",
        "    print(\"my_logger:original_function=\", original_function)\n",
        "    filename = '{}.log'.format(original_function.__name__)\n",
        "    logging.basicConfig(handlers=[logging.FileHandler(filename, 'a', 'utf-8')], \n",
        "                        level=logging.INFO)\n",
        "\n",
        "    def wrapper(*args, **kwargs):\n",
        "        print(\"+my_logger:wrapper\")\n",
        "        timestamp = datetime.datetime.now().strftime('%Y-%m-%d %H:%M')\n",
        "        logging.info(\n",
        "            '[{}] excution result args - {}, kwargs - {}'.format(timestamp, args, kwargs))\n",
        "        \n",
        "        result = original_function(*args, **kwargs)\n",
        "        print(\"-my_logger:wrapper\")\n",
        "        return result\n",
        "\n",
        "    print(\"-my_logger\")\n",
        "    return wrapper\n",
        "\n",
        "\n",
        "def my_timer(original_function):\n",
        "    import time\n",
        "    print(\"+my_timer\")\n",
        "    print(\"my_timer:original_function=\", original_function)\n",
        "    def wrapper(*args, **kwargs):\n",
        "        print(\"+my_timer:wrapper\")\n",
        "        t1 = time.time()\n",
        "        result = original_function(*args, **kwargs)\n",
        "        t2 = time.time() - t1\n",
        "        print('{} 함수가 실행된 총 시간: {} 초'.format(original_function.__name__, t2))\n",
        "        print(\"-my_timer:wrapper\")\n",
        "        return result\n",
        "    print(\"-my_timer\")\n",
        "    return wrapper"
      ],
      "metadata": {
        "id": "4am-E84VaW9B"
      },
      "execution_count": null,
      "outputs": []
    },
    {
      "cell_type": "code",
      "source": [
        "@my_logger  # 1\n",
        "@my_timer   # 2\n",
        "def display_info(name, age):\n",
        "    time.sleep(1)\n",
        "    print('display_info({}, {}) 함수가 실행됐습니다.'.format(name, age))"
      ],
      "metadata": {
        "id": "8e1SCeSfac2h"
      },
      "execution_count": null,
      "outputs": []
    },
    {
      "cell_type": "code",
      "source": [
        "display_info('John', 25)"
      ],
      "metadata": {
        "id": "-_uGz5xebfgB"
      },
      "execution_count": null,
      "outputs": []
    },
    {
      "cell_type": "code",
      "source": [],
      "metadata": {
        "id": "B2cdquQrADED"
      },
      "execution_count": 1,
      "outputs": []
    },
    {
      "cell_type": "code",
      "source": [
        "\n",
        "class MyLogger:\n",
        "    def __init__(self, original_function):\n",
        "        \n",
        "        self.original_function = original_function\n",
        "        self.filename = '{}.log'.format(original_function.__name__)\n",
        "        logging.basicConfig(handlers=[logging.FileHandler(self.filename, 'a', 'utf-8')], \n",
        "                            level=logging.INFO)\n",
        "\n",
        "    def __call__(self, *args, **kwargs):\n",
        "        print(self.original_function.__name__, \"+MyLogger\")\n",
        "        print(self.original_function.__name__, \"MyLogger:original_function=\" ,self.original_function)\n",
        "        print(\"+MyLogger:wrapper\")\n",
        "        timestamp = datetime.datetime.now().strftime('%Y-%m-%d %H:%M')\n",
        "        logging.info('[{}] excution result args - {}, kwargs - {}'.format(timestamp, args, kwargs))\n",
        "        result = self.original_function(*args, **kwargs)\n",
        "        print(\"-MyLogger:wrapper\")\n",
        "        print(self.original_function.__name__, \"-MyLogger\")\n",
        "        return result"
      ],
      "metadata": {
        "id": "zYFw1r7H-_Q4"
      },
      "execution_count": 34,
      "outputs": []
    },
    {
      "cell_type": "code",
      "source": [
        "import time\n",
        "\n",
        "class MyTimer:\n",
        "    def __init__(self, original_function):\n",
        "        self.original_function = original_function\n",
        "\n",
        "    def __call__(self, *args, **kwargs):\n",
        "        print(self.original_function.__name__, \"+MyTimer\")\n",
        "        print(self.original_function.__name__, \"MyTimer:original_function=\" ,self.original_function)\n",
        "        t1 = time.time()\n",
        "        result = self.original_function(*args, **kwargs)\n",
        "        t2 = time.time() - t1\n",
        "        print('{} 함수가 실행된 총 시간: {} 초'.format(self.original_function.__name__, t2))\n",
        "        print(self.original_function.__name__, \"-MyTimer\")\n",
        "        return result"
      ],
      "metadata": {
        "id": "7VtbgU90_BLp"
      },
      "execution_count": 33,
      "outputs": []
    },
    {
      "cell_type": "code",
      "source": [
        "@MyLogger  # 1\n",
        "def display_info(name, age):\n",
        "    time.sleep(1)\n",
        "    print('display_info({}, {}) 함수가 실행됐습니다.'.format(name, age))"
      ],
      "metadata": {
        "id": "Pwub9gtnbXO5"
      },
      "execution_count": 31,
      "outputs": []
    },
    {
      "cell_type": "code",
      "source": [
        "display_info(\"sungwon\", 47)"
      ],
      "metadata": {
        "id": "9EEWdKjM_Ggo",
        "colab": {
          "base_uri": "https://localhost:8080/"
        },
        "outputId": "52e750b1-37c6-416d-d8d9-385481a527e8"
      },
      "execution_count": 32,
      "outputs": [
        {
          "output_type": "stream",
          "name": "stdout",
          "text": [
            "display_info +MyLogger\n",
            "display_info MyLogger:original_function= <function display_info at 0x7f3ade5de3a0>\n",
            "+my_logger:wrapper\n",
            "display_info(sungwon, 47) 함수가 실행됐습니다.\n",
            "-my_logger:wrapper\n",
            "display_info -MyLogger\n"
          ]
        }
      ]
    },
    {
      "cell_type": "code",
      "source": [
        "@MyTimer\n",
        "def display_info(name, age):\n",
        "    time.sleep(1)\n",
        "    print('display_info({}, {}) 함수가 실행됐습니다.'.format(name, age))"
      ],
      "metadata": {
        "id": "8SFPQVAt-76x"
      },
      "execution_count": 28,
      "outputs": []
    },
    {
      "cell_type": "code",
      "source": [
        "display_info(\"sungwon\", 47)"
      ],
      "metadata": {
        "id": "XWhV6cDr_HDQ",
        "colab": {
          "base_uri": "https://localhost:8080/"
        },
        "outputId": "4b4a2931-c646-4b76-d75a-903beebb64b7"
      },
      "execution_count": 9,
      "outputs": [
        {
          "output_type": "stream",
          "name": "stdout",
          "text": [
            "display_info(sungwon, 47) 함수가 실행됐습니다.\n",
            "display_info 함수가 실행된 총 시간: 1.0014233589172363 초\n"
          ]
        }
      ]
    }
  ]
}